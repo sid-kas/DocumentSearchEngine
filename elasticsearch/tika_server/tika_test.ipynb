{
 "metadata": {
  "language_info": {
   "codemirror_mode": {
    "name": "ipython",
    "version": 3
   },
   "file_extension": ".py",
   "mimetype": "text/x-python",
   "name": "python",
   "nbconvert_exporter": "python",
   "pygments_lexer": "ipython3",
   "version": "3.7.5-final"
  },
  "orig_nbformat": 2,
  "kernelspec": {
   "name": "Python 3.7.5 64-bit",
   "display_name": "Python 3.7.5 64-bit",
   "metadata": {
    "interpreter": {
     "hash": "4cd7ab41f5fca4b9b44701077e38c5ffd31fe66a6cab21e0214b68d958d0e462"
    }
   }
  }
 },
 "nbformat": 4,
 "nbformat_minor": 2,
 "cells": [
  {
   "cell_type": "code",
   "execution_count": 23,
   "metadata": {
    "tags": []
   },
   "outputs": [],
   "source": [
    "import tika\n",
    "from tika import parser\n",
    "def extract(file_path):\n",
    "    headers = {\n",
    "        'X-Tika-PDFextractInlineImages': 'true',\n",
    "        \"X-Tika-OCRLanguage\": \"eng+swe\"\n",
    "    }\n",
    "    parsed = parser.from_file(file_path, serverEndpoint=\"http://localhost:9898/tika\", headers=headers)\n",
    "    return parsed"
   ]
  },
  {
   "cell_type": "code",
   "execution_count": 24,
   "metadata": {},
   "outputs": [],
   "source": [
    "scanned_doc = \"assets/sample_scanned/PublicWaterMassMailing.pdf\"\n",
    "path = \"/mnt/InternalStorage/sidkas/skr/downloaded_pdfs/Ljusdals kommun-Protokoll%20UN%202017-04-06.pdf\"\n",
    "data = extract(path)"
   ]
  },
  {
   "cell_type": "code",
   "execution_count": 30,
   "metadata": {},
   "outputs": [
    {
     "output_type": "execute_result",
     "data": {
      "text/plain": [
       "['Plats och tid',\n",
       " '',\n",
       " 'Beslutande',\n",
       " '',\n",
       " 'Ovriga narvarande',\n",
       " '',\n",
       " 'Justerare',\n",
       " '',\n",
       " 'Justeringens plats och tid',\n",
       " '',\n",
       " 'SAMMANTRADESPROTOKOLL',\n",
       " '',\n",
       " 'Sammantradesdatum',\n",
       " '',\n",
       " '2017-04-06',\n",
       " '',\n",
       " '1(20)',\n",
       " '',\n",
       " 'Folkparksrestaurangen Ljusdal, torsdagen den 6 april 2017 kl 08:30 — 11:30',\n",
       " '',\n",
       " 'Ledaméter',\n",
       " '',\n",
       " 'Allan Cederborg (M), Ordférande',\n",
       " '',\n",
       " 'Kristina Michelson (S), 1:e vice ordfdrande',\n",
       " 'Nathalie Hall (M)',\n",
       " '',\n",
       " 'Ingrid Olsson (C)',\n",
       " '',\n",
       " 'Suzanne Blomavist (L)',\n",
       " '',\n",
       " 'Mikael Andersson Sellberg (V)',\n",
       " '',\n",
       " 'Marie Mill (LB)',\n",
       " 'Lars Engstrém (',\n",
       " 'Kjell Nilsson (S)',\n",
       " 'Irene Jonsson (S) ersattare far Kristoffer Hansson (MP)',\n",
       " 'Johan Wall (SD)',\n",
       " '',\n",
       " 'Ersattare']"
      ]
     },
     "metadata": {},
     "execution_count": 30
    }
   ],
   "source": [
    "# data.get(\"metadata\").keys()\n",
    "lines = str(data.get(\"content\")).splitlines()\n",
    "lines[100:140]"
   ]
  },
  {
   "cell_type": "code",
   "execution_count": 16,
   "metadata": {},
   "outputs": [
    {
     "output_type": "execute_result",
     "data": {
      "text/plain": [
       "{'Content-Type': 'application/pdf',\n",
       " 'Creation-Date': '2017-04-12T15:54:46Z',\n",
       " 'X-Parsed-By': ['org.apache.tika.parser.CompositeParser',\n",
       "  'com.lexpredict.tika.AlterPDFParser'],\n",
       " 'X-TIKA:content_handler': 'ToTextContentHandler',\n",
       " 'X-TIKA:embedded_depth': '0',\n",
       " 'X-TIKA:parse_time_millis': '55853',\n",
       " 'access_permission:assemble_document': 'true',\n",
       " 'access_permission:can_modify': 'true',\n",
       " 'access_permission:can_print': 'true',\n",
       " 'access_permission:can_print_degraded': 'true',\n",
       " 'access_permission:extract_content': 'true',\n",
       " 'access_permission:extract_for_accessibility': 'true',\n",
       " 'access_permission:fill_in_form': 'true',\n",
       " 'access_permission:modify_annotations': 'true',\n",
       " 'created': '2017-04-12T15:54:46Z',\n",
       " 'dc:format': ['application/pdf; version=\"A-1b\"',\n",
       "  'application/pdf; version=1.4'],\n",
       " 'dcterms:created': '2017-04-12T15:54:46Z',\n",
       " 'meta:creation-date': '2017-04-12T15:54:46Z',\n",
       " 'pdf:PDFVersion': '1.4',\n",
       " 'pdf:charsPerPage': ['1164',\n",
       "  '997',\n",
       "  '545',\n",
       "  '590',\n",
       "  '591',\n",
       "  '1105',\n",
       "  '968',\n",
       "  '1931',\n",
       "  '1345',\n",
       "  '1568',\n",
       "  '1089',\n",
       "  '1613',\n",
       "  '1228',\n",
       "  '1324',\n",
       "  '975',\n",
       "  '715',\n",
       "  '501',\n",
       "  '974',\n",
       "  '839',\n",
       "  '725'],\n",
       " 'pdf:docinfo:created': '2017-04-12T15:54:46Z',\n",
       " 'pdf:docinfo:creator_tool': 'Xerox WorkCentre 7545',\n",
       " 'pdf:docinfo:producer': 'Xerox WorkCentre 7545',\n",
       " 'pdf:encrypted': 'false',\n",
       " 'pdf:hasXMP': 'true',\n",
       " 'pdf:unmappedUnicodeCharsPerPage': ['0',\n",
       "  '0',\n",
       "  '0',\n",
       "  '0',\n",
       "  '0',\n",
       "  '0',\n",
       "  '0',\n",
       "  '0',\n",
       "  '0',\n",
       "  '0',\n",
       "  '0',\n",
       "  '0',\n",
       "  '0',\n",
       "  '0',\n",
       "  '0',\n",
       "  '0',\n",
       "  '0',\n",
       "  '0',\n",
       "  '0',\n",
       "  '0'],\n",
       " 'pdfa:PDFVersion': 'A-1b',\n",
       " 'pdfaid:conformance': 'B',\n",
       " 'pdfaid:part': '1',\n",
       " 'producer': 'Xerox WorkCentre 7545',\n",
       " 'resourceName': \"b'Ljusdals kommun-Protokoll%20UN%202017-04-06.pdf'\",\n",
       " 'xmp:CreatorTool': 'Xerox WorkCentre 7545',\n",
       " 'xmpTPg:NPages': '20'}"
      ]
     },
     "metadata": {},
     "execution_count": 16
    }
   ],
   "source": [
    "data.get(\"metadata\")"
   ]
  },
  {
   "cell_type": "code",
   "execution_count": 31,
   "metadata": {},
   "outputs": [
    {
     "output_type": "execute_result",
     "data": {
      "text/plain": [
       "'PublicWaterMassMailing'"
      ]
     },
     "metadata": {},
     "execution_count": 31
    }
   ],
   "source": [
    "scanned_doc = \"assets/sample_scanned/PublicWaterMassMailing.pdf\"\n",
    "scanned_doc.split('.')[0].split('/')[-1]"
   ]
  },
  {
   "cell_type": "code",
   "execution_count": null,
   "metadata": {},
   "outputs": [],
   "source": []
  }
 ]
}