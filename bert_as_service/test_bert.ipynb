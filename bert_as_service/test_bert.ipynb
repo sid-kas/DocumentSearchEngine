{
 "metadata": {
  "language_info": {
   "codemirror_mode": {
    "name": "ipython",
    "version": 3
   },
   "file_extension": ".py",
   "mimetype": "text/x-python",
   "name": "python",
   "nbconvert_exporter": "python",
   "pygments_lexer": "ipython3",
   "version": "3.7.5-final"
  },
  "orig_nbformat": 2,
  "kernelspec": {
   "name": "python_defaultSpec_1600698712833",
   "display_name": "Python 3.7.5 64-bit"
  }
 },
 "nbformat": 4,
 "nbformat_minor": 2,
 "cells": [
  {
   "cell_type": "code",
   "execution_count": 1,
   "metadata": {},
   "outputs": [],
   "source": [
    "import os, sys\n",
    "import pandas as pd\n",
    "import numpy as np\n"
   ]
  },
  {
   "cell_type": "code",
   "execution_count": 2,
   "metadata": {
    "tags": []
   },
   "outputs": [
    {
     "output_type": "stream",
     "name": "stdout",
     "text": "Index(['Namn', 'Inicator', 'Description', 'Industry', 'Details',\n       'Net income for last year', 'Number of employees', 'Priority',\n       'In HR list', 'Actions', 'Mejl', 'Telefon vxl', 'Telefon direkt',\n       'Mobil', 'Fax', 'URL', 'Adress', 'Postnummer', 'Ort', 'Region',\n       'Kontaktperson', 'Org.nr', 'M/K', 'Link to Allabolag',\n       'communication digitalization group', 'HighRise Url',\n       'highrise comment'],\n      dtype='object')\nIndex(['Title (SWE)', 'Title (ENG)', 'Funder', 'Opening date', 'Closing date',\n       'Decision date', 'Max amount (SEK)', 'Duration', 'Participants',\n       'Inkind  ', 'Details', 'Total budget'],\n      dtype='object')\n"
    }
   ],
   "source": [
    "companies_path = \"assets/Companies_Gbg_final.xlsx\"\n",
    "calls_path = \"assets/Upcoming Calls.xlsx\"\n",
    "\n",
    "companies_df = pd.read_excel(companies_path)\n",
    "calls_df = pd.read_excel(calls_path)\n",
    "\n",
    "print(companies_df.columns)\n",
    "print(calls_df.columns)"
   ]
  },
  {
   "cell_type": "code",
   "execution_count": 16,
   "metadata": {},
   "outputs": [
    {
     "output_type": "execute_result",
     "data": {
      "text/plain": "0      Parti- och provisionshandel med reservdelar oc...\n1          Teknisk konsultverksamhet inom industriteknik\n2                                                    nan\n3      Teknisk konsultverksamhet inom energi-, miljö-...\n4                                   PR och kommunikation\n                             ...                        \n225                                    Dataprogrammering\n226               Tillverkning av övriga specialmaskiner\n227     Konsultverksamhet avseende företags organisation\n228                                 Reklambyråverksamhet\n229    Partihandel med diverse övriga maskiner och ut...\nName: Description, Length: 230, dtype: object"
     },
     "metadata": {},
     "execution_count": 16
    }
   ],
   "source": [
    "companies_description = companies_df.Description.astype('str')\n",
    "calls_desciption = calls_df[['Title (ENG)','Details']]\n",
    "\n",
    "text_input = list(calls_desciption['Details'].astype('str'))\n",
    "text_input = [item for item in text_input if len(item)>3]\n",
    "\n",
    "companies_description\n",
    "\n"
   ]
  },
  {
   "cell_type": "code",
   "execution_count": 17,
   "metadata": {},
   "outputs": [],
   "source": [
    "from bert_serving.client import BertClient\n",
    "bc = BertClient(port=5555, port_out=5556)\n",
    "doc_vecs = bc.encode(text_input)\n"
   ]
  },
  {
   "cell_type": "code",
   "execution_count": 18,
   "metadata": {
    "tags": []
   },
   "outputs": [
    {
     "output_type": "stream",
     "name": "stdout",
     "text": "> 26.39731\t The support from Vinnova only applies to compensation for the Swedish players. The Brazilian players receive compensation from the EMBRAPII Institute.\n> 26.341652\tNon-financial research organizations can receive up to 100%, while the public sector and other non-financial activities can receive up to 80% funding of eligible costs.\n> 26.01097\tR&D projects to develop new lightweight technology that meets industrial needs. The duration of the R & D projects may not exceed 3 years. Feasibility studies of a maximum of 1 year where the conditions for future, innovative R&D projects with high potential must be evaluated and analyzed\n> 26.010965\tR&D projects to develop new lightweight technology that meets industrial needs. The duration of the R & D projects may not exceed 3 years. Feasibility studies of a maximum of 1 year where the conditions for future, innovative R&D projects with high potential must be evaluated and analyzed\n> 26.00698\tThis is a joint announcement within the two strategic innovation programs Swelife and Medtech4Health.\n> 29.361814\tNon-financial research organizations can receive up to 100%, while the public sector and other non-financial activities can receive up to 80% funding of eligible costs.\n> 28.966219\t The support from Vinnova only applies to compensation for the Swedish players. The Brazilian players receive compensation from the EMBRAPII Institute.\n> 28.926586\tThis is a joint announcement within the two strategic innovation programs Swelife and Medtech4Health.\n> 28.79921\tThe purpose of the call is to contribute to sustainable and competitive food systems by financing 4–5 need-based knowledge compilations. Thematic delimitation and focus are presented after the summer.\n> 28.581991\tR&D projects to develop new lightweight technology that meets industrial needs. The duration of the R & D projects may not exceed 3 years. Feasibility studies of a maximum of 1 year where the conditions for future, innovative R&D projects with high potential must be evaluated and analyzed\n"
    },
    {
     "output_type": "error",
     "ename": "ValueError",
     "evalue": "all elements in the list must be non-empty string, but element 0 is ''",
     "traceback": [
      "\u001b[0;31m---------------------------------------------------------------------------\u001b[0m",
      "\u001b[0;31mValueError\u001b[0m                                Traceback (most recent call last)",
      "\u001b[0;32m<ipython-input-18-29a6e1187f3b>\u001b[0m in \u001b[0;36m<module>\u001b[0;34m\u001b[0m\n\u001b[1;32m      1\u001b[0m \u001b[0;32mwhile\u001b[0m \u001b[0;32mTrue\u001b[0m\u001b[0;34m:\u001b[0m\u001b[0;34m\u001b[0m\u001b[0;34m\u001b[0m\u001b[0m\n\u001b[1;32m      2\u001b[0m     \u001b[0mquery\u001b[0m \u001b[0;34m=\u001b[0m \u001b[0minput\u001b[0m\u001b[0;34m(\u001b[0m\u001b[0;34m'your question: '\u001b[0m\u001b[0;34m)\u001b[0m\u001b[0;34m\u001b[0m\u001b[0;34m\u001b[0m\u001b[0m\n\u001b[0;32m----> 3\u001b[0;31m     \u001b[0mquery_vec\u001b[0m \u001b[0;34m=\u001b[0m \u001b[0mbc\u001b[0m\u001b[0;34m.\u001b[0m\u001b[0mencode\u001b[0m\u001b[0;34m(\u001b[0m\u001b[0;34m[\u001b[0m\u001b[0mquery\u001b[0m\u001b[0;34m]\u001b[0m\u001b[0;34m)\u001b[0m\u001b[0;34m[\u001b[0m\u001b[0;36m0\u001b[0m\u001b[0;34m]\u001b[0m\u001b[0;34m\u001b[0m\u001b[0;34m\u001b[0m\u001b[0m\n\u001b[0m\u001b[1;32m      4\u001b[0m     \u001b[0;31m# compute normalized dot product as score\u001b[0m\u001b[0;34m\u001b[0m\u001b[0;34m\u001b[0m\u001b[0;34m\u001b[0m\u001b[0m\n\u001b[1;32m      5\u001b[0m     \u001b[0mscore\u001b[0m \u001b[0;34m=\u001b[0m \u001b[0mnp\u001b[0m\u001b[0;34m.\u001b[0m\u001b[0msum\u001b[0m\u001b[0;34m(\u001b[0m\u001b[0mquery_vec\u001b[0m \u001b[0;34m*\u001b[0m \u001b[0mdoc_vecs\u001b[0m\u001b[0;34m,\u001b[0m \u001b[0maxis\u001b[0m\u001b[0;34m=\u001b[0m\u001b[0;36m1\u001b[0m\u001b[0;34m)\u001b[0m \u001b[0;34m/\u001b[0m \u001b[0mnp\u001b[0m\u001b[0;34m.\u001b[0m\u001b[0mlinalg\u001b[0m\u001b[0;34m.\u001b[0m\u001b[0mnorm\u001b[0m\u001b[0;34m(\u001b[0m\u001b[0mdoc_vecs\u001b[0m\u001b[0;34m,\u001b[0m \u001b[0maxis\u001b[0m\u001b[0;34m=\u001b[0m\u001b[0;36m1\u001b[0m\u001b[0;34m)\u001b[0m\u001b[0;34m\u001b[0m\u001b[0;34m\u001b[0m\u001b[0m\n",
      "\u001b[0;32m~/.local/lib/python3.7/site-packages/bert_serving/client/__init__.py\u001b[0m in \u001b[0;36marg_wrapper\u001b[0;34m(self, *args, **kwargs)\u001b[0m\n\u001b[1;32m    204\u001b[0m                 \u001b[0mself\u001b[0m\u001b[0;34m.\u001b[0m\u001b[0mreceiver\u001b[0m\u001b[0;34m.\u001b[0m\u001b[0msetsockopt\u001b[0m\u001b[0;34m(\u001b[0m\u001b[0mzmq\u001b[0m\u001b[0;34m.\u001b[0m\u001b[0mRCVTIMEO\u001b[0m\u001b[0;34m,\u001b[0m \u001b[0mself\u001b[0m\u001b[0;34m.\u001b[0m\u001b[0mtimeout\u001b[0m\u001b[0;34m)\u001b[0m\u001b[0;34m\u001b[0m\u001b[0;34m\u001b[0m\u001b[0m\n\u001b[1;32m    205\u001b[0m             \u001b[0;32mtry\u001b[0m\u001b[0;34m:\u001b[0m\u001b[0;34m\u001b[0m\u001b[0;34m\u001b[0m\u001b[0m\n\u001b[0;32m--> 206\u001b[0;31m                 \u001b[0;32mreturn\u001b[0m \u001b[0mfunc\u001b[0m\u001b[0;34m(\u001b[0m\u001b[0mself\u001b[0m\u001b[0;34m,\u001b[0m \u001b[0;34m*\u001b[0m\u001b[0margs\u001b[0m\u001b[0;34m,\u001b[0m \u001b[0;34m**\u001b[0m\u001b[0mkwargs\u001b[0m\u001b[0;34m)\u001b[0m\u001b[0;34m\u001b[0m\u001b[0;34m\u001b[0m\u001b[0m\n\u001b[0m\u001b[1;32m    207\u001b[0m             \u001b[0;32mexcept\u001b[0m \u001b[0mzmq\u001b[0m\u001b[0;34m.\u001b[0m\u001b[0merror\u001b[0m\u001b[0;34m.\u001b[0m\u001b[0mAgain\u001b[0m \u001b[0;32mas\u001b[0m \u001b[0m_e\u001b[0m\u001b[0;34m:\u001b[0m\u001b[0;34m\u001b[0m\u001b[0;34m\u001b[0m\u001b[0m\n\u001b[1;32m    208\u001b[0m                 t_e = TimeoutError(\n",
      "\u001b[0;32m~/.local/lib/python3.7/site-packages/bert_serving/client/__init__.py\u001b[0m in \u001b[0;36mencode\u001b[0;34m(self, texts, blocking, is_tokenized, show_tokens)\u001b[0m\n\u001b[1;32m    285\u001b[0m             \u001b[0mself\u001b[0m\u001b[0;34m.\u001b[0m\u001b[0m_check_input_lst_lst_str\u001b[0m\u001b[0;34m(\u001b[0m\u001b[0mtexts\u001b[0m\u001b[0;34m)\u001b[0m\u001b[0;34m\u001b[0m\u001b[0;34m\u001b[0m\u001b[0m\n\u001b[1;32m    286\u001b[0m         \u001b[0;32melse\u001b[0m\u001b[0;34m:\u001b[0m\u001b[0;34m\u001b[0m\u001b[0;34m\u001b[0m\u001b[0m\n\u001b[0;32m--> 287\u001b[0;31m             \u001b[0mself\u001b[0m\u001b[0;34m.\u001b[0m\u001b[0m_check_input_lst_str\u001b[0m\u001b[0;34m(\u001b[0m\u001b[0mtexts\u001b[0m\u001b[0;34m)\u001b[0m\u001b[0;34m\u001b[0m\u001b[0;34m\u001b[0m\u001b[0m\n\u001b[0m\u001b[1;32m    288\u001b[0m \u001b[0;34m\u001b[0m\u001b[0m\n\u001b[1;32m    289\u001b[0m         \u001b[0;32mif\u001b[0m \u001b[0mself\u001b[0m\u001b[0;34m.\u001b[0m\u001b[0mlength_limit\u001b[0m \u001b[0;32mis\u001b[0m \u001b[0;32mNone\u001b[0m\u001b[0;34m:\u001b[0m\u001b[0;34m\u001b[0m\u001b[0;34m\u001b[0m\u001b[0m\n",
      "\u001b[0;32m~/.local/lib/python3.7/site-packages/bert_serving/client/__init__.py\u001b[0m in \u001b[0;36m_check_input_lst_str\u001b[0;34m(texts)\u001b[0m\n\u001b[1;32m    401\u001b[0m             \u001b[0;32mif\u001b[0m \u001b[0;32mnot\u001b[0m \u001b[0ms\u001b[0m\u001b[0;34m.\u001b[0m\u001b[0mstrip\u001b[0m\u001b[0;34m(\u001b[0m\u001b[0;34m)\u001b[0m\u001b[0;34m:\u001b[0m\u001b[0;34m\u001b[0m\u001b[0;34m\u001b[0m\u001b[0m\n\u001b[1;32m    402\u001b[0m                 raise ValueError(\n\u001b[0;32m--> 403\u001b[0;31m                     'all elements in the list must be non-empty string, but element %d is %s' % (idx, repr(s)))\n\u001b[0m\u001b[1;32m    404\u001b[0m             \u001b[0;32mif\u001b[0m \u001b[0m_py2\u001b[0m\u001b[0;34m:\u001b[0m\u001b[0;34m\u001b[0m\u001b[0;34m\u001b[0m\u001b[0m\n\u001b[1;32m    405\u001b[0m                 \u001b[0mtexts\u001b[0m\u001b[0;34m[\u001b[0m\u001b[0midx\u001b[0m\u001b[0;34m]\u001b[0m \u001b[0;34m=\u001b[0m \u001b[0m_unicode\u001b[0m\u001b[0;34m(\u001b[0m\u001b[0mtexts\u001b[0m\u001b[0;34m[\u001b[0m\u001b[0midx\u001b[0m\u001b[0;34m]\u001b[0m\u001b[0;34m)\u001b[0m\u001b[0;34m\u001b[0m\u001b[0;34m\u001b[0m\u001b[0m\n",
      "\u001b[0;31mValueError\u001b[0m: all elements in the list must be non-empty string, but element 0 is ''"
     ]
    }
   ],
   "source": [
    "while True:\n",
    "    query = input('your question: ')\n",
    "    query_vec = bc.encode([query])[0]\n",
    "    # compute normalized dot product as score\n",
    "    score = np.sum(query_vec * doc_vecs, axis=1) / np.linalg.norm(doc_vecs, axis=1)\n",
    "    topk_idx = np.argsort(score)[::-1][:1]\n",
    "    for idx in topk_idx:\n",
    "        print('> %s\\t%s' % (score[idx], text_input[idx]))\n"
   ]
  },
  {
   "cell_type": "code",
   "execution_count": null,
   "metadata": {},
   "outputs": [],
   "source": []
  }
 ]
}